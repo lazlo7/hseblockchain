{
 "cells": [
  {
   "cell_type": "markdown",
   "metadata": {},
   "source": [
    "# HA4\n"
   ]
  },
  {
   "cell_type": "markdown",
   "metadata": {},
   "source": [
    "1\\. Deploy the ERC20 token smart contract with any reasonable parameters (like name, symbol) and allocate (mint) assets to it."
   ]
  },
  {
   "cell_type": "markdown",
   "metadata": {},
   "source": [
    "We'll be using a local hardhat instance to deploy our contracts.  \n",
    "Using npm, we install hardhat: npm install --save-dev hardhat  \n",
    "We initialize a new hardhat project via: npx hardhat init. We'll choose to use the template project for simplicity.\n",
    "Then, using npx, we run hardhat: npx hardhat node  \n",
    "We now have a locally running RPC server at http://127.0.0.1:8545/.  \n",
    "  \n",
    "We then want to create and mint a new ERC20 token, like in the 2nd home assignment, so i'll be less verbose here."
   ]
  },
  {
   "cell_type": "code",
   "execution_count": 7,
   "metadata": {},
   "outputs": [],
   "source": [
    "from web3 import Web3 \n",
    "import json"
   ]
  },
  {
   "cell_type": "code",
   "execution_count": 1,
   "metadata": {},
   "outputs": [
    {
     "data": {
      "text/plain": [
       "'\\n// SPDX-License-Identifier: MIT\\npragma solidity ^0.8.0;\\n\\nimport \"@openzeppelin/contracts/token/ERC20/ERC20.sol\";\\n\\ncontract MyToken is ERC20 {\\n    constructor(\\n        string memory _name,\\n        string memory _symbol,\\n        uint256 _initialSupply\\n    ) ERC20(_name, _symbol) {\\n        // Mint initial supply to the contract deployer\\n        _mint(msg.sender, _initialSupply);\\n    }\\n\\n    // Allows to additionally mint tokens, if needed\\n    function mint(address _to, uint256 _amount) external {\\n        _mint(_to, _amount);\\n    }\\n}\\n'"
      ]
     },
     "execution_count": 1,
     "metadata": {},
     "output_type": "execute_result"
    }
   ],
   "source": [
    "# Creating a minimal ERC20 token.\n",
    "\"\"\"\n",
    "// SPDX-License-Identifier: MIT\n",
    "pragma solidity ^0.8.0;\n",
    "\n",
    "import \"@openzeppelin/contracts/token/ERC20/ERC20.sol\";\n",
    "\n",
    "contract MyToken is ERC20 {\n",
    "    constructor(\n",
    "        string memory _name,\n",
    "        string memory _symbol,\n",
    "        uint256 _initialSupply\n",
    "    ) ERC20(_name, _symbol) {\n",
    "        // Mint initial supply to the contract deployer\n",
    "        _mint(msg.sender, _initialSupply);\n",
    "    }\n",
    "\n",
    "    // Allows to additionally mint tokens, if needed\n",
    "    function mint(address _to, uint256 _amount) external {\n",
    "        _mint(_to, _amount);\n",
    "    }\n",
    "}\n",
    "\"\"\"\n",
    "# This is solidity code for the contract in ./contracts/MyToken.sol\n"
   ]
  },
  {
   "cell_type": "code",
   "execution_count": 5,
   "metadata": {},
   "outputs": [],
   "source": [
    "# We then want to compile the contract. We'll use hardhat compile, since we already have it.\n",
    "# We install the npm @openzeppelin/contracts package, which our contract imports using npm: npm install @openzeppelin/contracts\n",
    "# We then compile the contract via: hardhat compile\n",
    "# The results are located in ./artifacts. We only need ABI and bytecode in ./artifacts/contracts/MyToken.sol/MyToken.json\n",
    "with open(\"./artifacts/contracts/MyToken.sol/MyToken.json\", \"r\") as mytoken_json:\n",
    "    mytoken_json = json.load(mytoken_json)\n",
    "    mytoken_abi = mytoken_json[\"abi\"]\n",
    "    mytoken_bytecode = mytoken_json[\"bytecode\"]"
   ]
  },
  {
   "cell_type": "code",
   "execution_count": 15,
   "metadata": {},
   "outputs": [
    {
     "name": "stdout",
     "output_type": "stream",
     "text": [
      "Deploying from address: 0xf39Fd6e51aad88F6F4ce6aB8827279cffFb92266\n",
      "Contract deployed at address: 0xa513E6E4b8f2a923D98304ec87F64353C4D5C853\n",
      "Mint transaction receipt: 34c8d9e7bdbde3d1a4dbfc20b90a05c18c86cde13cadd3c541a7ca2b585ee06f\n",
      "Deployer's token balance: 1005000000000000000000000 (raw units)\n"
     ]
    }
   ],
   "source": [
    "w3 = Web3(Web3.HTTPProvider(\"http://127.0.0.1:8545\"))\n",
    "chain_id = 31337  # hardhat's default chain id\n",
    "# We get accounts info on npx hardhat node startup.\n",
    "private_key = \"0xac0974bec39a17e36ba4a6b4d238ff944bacb478cbed5efcae784d7bf4f2ff80\"  \n",
    "\n",
    "# Derive the account from the private key\n",
    "account = w3.eth.account.from_key(private_key)\n",
    "deploy_address = account.address\n",
    "print(f\"Deploying from address: {deploy_address}\")\n",
    "\n",
    "\n",
    "# We then do the usual stuff: deploy the contract, mint tokens.\n",
    "mytoken = w3.eth.contract(abi=mytoken_abi, bytecode=mytoken_bytecode)\n",
    "initial_supply = w3.to_wei(1_000_000, 'ether')\n",
    "construct_txn = mytoken.constructor(\n",
    "    \"LolToken\",       \n",
    "    \"LOL\",           \n",
    "    initial_supply \n",
    ").build_transaction(\n",
    "    {\n",
    "        \"from\": deploy_address,\n",
    "        \"nonce\": w3.eth.get_transaction_count(deploy_address),\n",
    "        \"gasPrice\": w3.eth.gas_price,\n",
    "        \"chainId\": chain_id,\n",
    "    }\n",
    ")\n",
    "\n",
    "# Sign and send\n",
    "signed = account.sign_transaction(construct_txn)\n",
    "tx_hash = w3.eth.send_raw_transaction(signed.raw_transaction)\n",
    "tx_receipt = w3.eth.wait_for_transaction_receipt(tx_hash)\n",
    "print(\"Contract deployed at address:\", tx_receipt.contractAddress)\n",
    "\n",
    "# Create contract instance at the deployed address\n",
    "mytoken_contract = w3.eth.contract(\n",
    "    address=tx_receipt.contractAddress, abi=mytoken_abi\n",
    ")\n",
    "\n",
    "\n",
    "# Let's mint 5000 tokens to the deployer\n",
    "mint_amount = w3.to_wei(5000, 'ether')\n",
    "mint_txn = mytoken_contract.functions.mint(deploy_address, mint_amount).build_transaction(\n",
    "    {\n",
    "        \"from\": deploy_address,\n",
    "        \"nonce\": w3.eth.get_transaction_count(deploy_address),\n",
    "        \"gasPrice\": w3.eth.gas_price,\n",
    "        \"chainId\": chain_id,\n",
    "    }\n",
    ")\n",
    "\n",
    "signed_mint_txn = account.sign_transaction(mint_txn)\n",
    "mint_tx_hash = w3.eth.send_raw_transaction(signed_mint_txn.raw_transaction)\n",
    "mint_tx_receipt = w3.eth.wait_for_transaction_receipt(mint_tx_hash)\n",
    "print(\"Mint transaction receipt:\", mint_tx_receipt.transactionHash.hex())\n",
    "\n",
    "# Check deployer's balance\n",
    "deployer_balance = mytoken_contract.functions.balanceOf(deploy_address).call()\n",
    "print(f\"Deployer's token balance: {deployer_balance} (raw units)\")"
   ]
  },
  {
   "cell_type": "markdown",
   "metadata": {},
   "source": [
    "2\\. Write a test script to  \n",
    "a. Declare three addresses: Sender, Receiver_1, and Receiver_2. Note: The sender is also a contract deployer  \n",
    "b. Send some tokens to the Receiver_1 and check the expected balances. For example, if the Sender mints 10,000 tokens and sends 100 to the receiver, check that the receiver has 100 and the sender has remaining.  \n",
    "c. Repeat step 2.b, but this time the receiver is Receiver_2 (any amount)  "
   ]
  },
  {
   "cell_type": "code",
   "execution_count": null,
   "metadata": {},
   "outputs": [],
   "source": [
    "# Sine the task description doesn't require us to use the hardhat network, we'll simply use pytest.\n",
    "# See solution in ./test/test_erc20.py"
   ]
  }
 ],
 "metadata": {
  "kernelspec": {
   "display_name": ".venv",
   "language": "python",
   "name": "python3"
  },
  "language_info": {
   "codemirror_mode": {
    "name": "ipython",
    "version": 3
   },
   "file_extension": ".py",
   "mimetype": "text/x-python",
   "name": "python",
   "nbconvert_exporter": "python",
   "pygments_lexer": "ipython3",
   "version": "3.12.3"
  }
 },
 "nbformat": 4,
 "nbformat_minor": 2
}
