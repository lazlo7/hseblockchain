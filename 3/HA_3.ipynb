{
 "cells": [
  {
   "cell_type": "markdown",
   "metadata": {},
   "source": [
    "# HA 3"
   ]
  },
  {
   "cell_type": "markdown",
   "metadata": {},
   "source": [
    "### Problem 1 (1 point)"
   ]
  },
  {
   "cell_type": "markdown",
   "metadata": {},
   "source": [
    "Diffie–Hellman key exchange protocol is one of the earliest practical examples of public key exchange implemented within the field of cryptography. Published in 1976 by Diffie and Hellman, this is the earliest publicly known work that proposed the idea of a private key and a corresponding public key. "
   ]
  },
  {
   "cell_type": "markdown",
   "metadata": {},
   "source": [
    "1) Implement function to generate common secret key within multiplicative group of given Finite field with known generator. \n",
    "\n",
    "*Note. You can assume that all the numbers are small, for example, less than $2^{16}$.*"
   ]
  },
  {
   "cell_type": "code",
   "execution_count": 18,
   "metadata": {
    "collapsed": true
   },
   "outputs": [],
   "source": [
    "def get_shared_secret(p: int, my_private_key: int, other_public_key: int) -> int:\n",
    "    \"\"\"\n",
    "    Returns the shared secret for the Diffie-Hellman key exchange protocol using own `my_private_key` and other's `other_public_key` \n",
    "    within multiplicative group of given finite field of order `p`.\n",
    "    `p` is assumed to be a prime number and must be greater than 1.\n",
    "    \"\"\"\n",
    "    assert p > 1, \"p must be greater than 1\"\n",
    "    # Python already has an effective built-in function for modular exponentiation, so we use it. \n",
    "    return pow(other_public_key, my_private_key, p)"
   ]
  },
  {
   "cell_type": "markdown",
   "metadata": {},
   "source": [
    "2) Test your solution in GF(17) with generator g=11. Bobs' open key B=11, Alice private key is a=7"
   ]
  },
  {
   "cell_type": "code",
   "execution_count": 19,
   "metadata": {
    "collapsed": true
   },
   "outputs": [
    {
     "name": "stdout",
     "output_type": "stream",
     "text": [
      "Alice's shared secret: 3\n",
      "Bob's shared secret: 3\n"
     ]
    }
   ],
   "source": [
    "# It'd be nice to show that Alice's and Bob's shared secret match.\n",
    "# p=17 and g=11 are public parameters known to both parties.\n",
    "\n",
    "alice_shared_secret = get_shared_secret(17, 7, 11)\n",
    "print(f\"Alice's shared secret: {alice_shared_secret}\")\n",
    "\n",
    "# Bob's public key is 11, so we have: 11 = 11^b mod 17, where b is Bob's private key.\n",
    "# In reality, b should be hard to compute (discrete logarithm problem), \n",
    "# but in this case for such small numbers the solution to b is trivial: b = 1.\n",
    "bob_private_key = 1\n",
    "\n",
    "# Knowing Alice's private key we can compute her public key.\n",
    "alice_public_key = pow(11, 7, 17)\n",
    "\n",
    "# Finally, we can compute Bob's shared secret.\n",
    "bob_shared_secret = get_shared_secret(17, bob_private_key, alice_public_key)\n",
    "print(f\"Bob's shared secret: {bob_shared_secret}\")"
   ]
  },
  {
   "cell_type": "markdown",
   "metadata": {},
   "source": [
    "As expected, shared secret of both parties match."
   ]
  },
  {
   "cell_type": "markdown",
   "metadata": {},
   "source": [
    "### Problem 2 (3 points)"
   ]
  },
  {
   "cell_type": "markdown",
   "metadata": {},
   "source": [
    "El Gamal protocol is widely used in cryptography. In this task we will ask you to implement your own El-Gamal encryption scheme on Python."
   ]
  },
  {
   "cell_type": "markdown",
   "metadata": {},
   "source": [
    "1) Implement function for generating keys. The function must generate big random prime number (problem of generating big prime numbers was discussed within the lectures). (1 point)\n",
    "\n",
    "*Note. You can assume that all the numbers are small, for example, less than $2^{32}$. But you **must** use a primality test as a part of the function to get a full score.*"
   ]
  },
  {
   "cell_type": "code",
   "execution_count": 18,
   "metadata": {},
   "outputs": [],
   "source": [
    "from secrets import randbelow # cryptographically secure"
   ]
  },
  {
   "cell_type": "code",
   "execution_count": 19,
   "metadata": {
    "collapsed": true
   },
   "outputs": [],
   "source": [
    "# A straightforward approach, definitely can be optimised.\n",
    "\n",
    "\n",
    "def factorize(x: int) -> list[int]:\n",
    "    \"\"\"Yields prime factors of `x`.\"\"\"\n",
    "    # Simple trial division, works well enough for numbers smaller than 2**32.\n",
    "    assert x >= 0, \"x must be non-negative\"\n",
    "    factors = []\n",
    "    f = 2\n",
    "    while f * f <= x:\n",
    "        if x % f == 0:\n",
    "            if f not in factors:\n",
    "                factors.append(f)\n",
    "            x //= f\n",
    "        else:\n",
    "            f += 1\n",
    "    if x > 1 and x not in factors:\n",
    "        factors.append(x)\n",
    "    \n",
    "    return factors\n",
    "\n",
    "\n",
    "def is_prime(x: int) -> bool:\n",
    "    # Simple trial division, works well enough for numbers smaller than 2**32.\n",
    "    assert x >= 0, \"x must be non-negative\"\n",
    "    if x == 2:\n",
    "        return True\n",
    "    if x < 2 or x % 2 == 0:\n",
    "        return False\n",
    "    \n",
    "    d = 3\n",
    "    while d * d <= x:\n",
    "        if x % d == 0:\n",
    "            return False\n",
    "        d += 2\n",
    "\n",
    "    return True\n",
    "\n",
    "\n",
    "def get_random_prime() -> int:\n",
    "    \"\"\"Generates a random uniformly distributed prime number in range [2**20, 2**32].\"\"\"\n",
    "    # Naive approach, but should work well enough for our purposes.\n",
    "    # From prime number theory we can estimate that there are about 2**32/ln(2**32) - 2**20/ln(2**20) ~ 193559611 prime numbers in that range.\n",
    "    # That means the probability of generating a prime number is about 193559611/(2**32 - 2**20) ~ 4.5%.\n",
    "    # Thus we expect the following loop to run about ~22 times on average, which is fine for our purposes.\n",
    "    while True:\n",
    "        p = randbelow((1<<32) - (1<<20)) + 1<<20\n",
    "        # A little hack to make sure we get an odd number.\n",
    "        # This shouldn't affect the uniform distribution for primality test, since almost all prime numbers are odd.\n",
    "        if p & 1 == 0:\n",
    "            p += 1\n",
    "        if is_prime(p):\n",
    "            return p\n",
    "        \n",
    "\n",
    "def get_group_generator(p: int) -> int:\n",
    "    \"\"\"\n",
    "    Returns a random group generator of the multiplicative group of integers modulo `p`.\n",
    "    \n",
    "    `p` is assumed to be prime.\n",
    "    \"\"\"\n",
    "    fs = factorize(p - 1)\n",
    "    while True:\n",
    "        # Shifting by 2 to avoid 0's and 1's.\n",
    "        g = randbelow(p - 2) + 2\n",
    "        # Essentially checking whether all elements can be generated by `g`.\n",
    "        if all(pow(g, (p - 1) // f, p) != 1 for f in fs):\n",
    "            return g\n",
    "        \n",
    "\n",
    "def get_private_key(p: int) -> int:\n",
    "    \"\"\"Returns a random private key in range [1, `p-2`] as element of multiplicative group of integers modulo `p`.\"\"\"\n",
    "    return randbelow(p - 2) + 1\n",
    "\n",
    "\n",
    "PublicKey = tuple[int, int, int]\n",
    "\n",
    "\n",
    "def get_public_key(p: int, g: int, private_key: int) -> PublicKey:\n",
    "    \"\"\"Returns a public key composed of a group modulo, a group generator, and a private key.\"\"\"\n",
    "    # Note that this function is deterministic -- given the same inputs, it will always return the same output.\n",
    "    public_key = pow(g, private_key, p)\n",
    "    return p, g, public_key"
   ]
  },
  {
   "cell_type": "markdown",
   "metadata": {},
   "source": [
    "2) Implement functions that realize the encryption and decryption in El Gamal protocol. (1 points)"
   ]
  },
  {
   "cell_type": "code",
   "execution_count": 22,
   "metadata": {},
   "outputs": [],
   "source": [
    "CipherText = tuple[int, int]\n",
    "\n",
    "\n",
    "def encrypt(x: int, public_key: PublicKey) -> CipherText:\n",
    "    \"\"\"Encrypts given `x` using public key and produces an ephemeral public key and the encrypted message.\"\"\"\n",
    "    p, g, actual_public_key = public_key\n",
    "    assert 0 <= x < p, \"x must be in range [0, p)\"\n",
    "\n",
    "    ephemeral_key = get_private_key(p)\n",
    "    ephemeral_public_key = pow(g, ephemeral_key, p)\n",
    "\n",
    "    shared_secret = pow(actual_public_key, ephemeral_key, p)\n",
    "    encrypted_message = (x * shared_secret) % p\n",
    "    return ephemeral_public_key, encrypted_message\n",
    "\n",
    "\n",
    "def decrypt(cipher_text: CipherText, private_key: int, p: int) -> int:\n",
    "    \"\"\"Decrypts given cipher text using `private_key` and group modulo `p`.\"\"\"\n",
    "    ephemeral_public_key, encrypted_message = cipher_text\n",
    "    shared_secret = pow(ephemeral_public_key, private_key, p)\n",
    "    decrypted_message = (encrypted_message * pow(shared_secret, -1, p)) % p\n",
    "    return decrypted_message"
   ]
  },
  {
   "cell_type": "markdown",
   "metadata": {},
   "source": [
    "3) Calculate Hash of your name by SHA-1 and test El Gamal encryption/decryption functions on its 16-bit prefix. (1 points)"
   ]
  },
  {
   "cell_type": "code",
   "execution_count": 23,
   "metadata": {},
   "outputs": [],
   "source": [
    "from hashlib import sha1"
   ]
  },
  {
   "cell_type": "code",
   "execution_count": 25,
   "metadata": {
    "collapsed": true
   },
   "outputs": [
    {
     "name": "stdout",
     "output_type": "stream",
     "text": [
      "Group modulo: 3717953326415873\n",
      "Group generator: 1511409967003651\n",
      "Private key: 1694551960099017\n",
      "Public key: (3717953326415873, 1511409967003651, 1254785817097861)\n",
      "Message: 1977\n",
      "Cipher text: (1805725999797894, 271152679143842)\n",
      "Decrypted message: 1977\n"
     ]
    }
   ],
   "source": [
    "p = get_random_prime()\n",
    "g = get_group_generator(p)\n",
    "private_key = get_private_key(p)\n",
    "public_key = get_public_key(p, g, private_key)\n",
    "\n",
    "print(f\"Group modulo: {p}\")\n",
    "print(f\"Group generator: {g}\")\n",
    "print(f\"Private key: {private_key}\")\n",
    "print(f\"Public key: {public_key}\")\n",
    "\n",
    "name = \"Maxim\"\n",
    "hashed_name = sha1(name.encode()).digest()\n",
    "message = int.from_bytes(hashed_name[:2])\n",
    "print(f\"Message: {message}\")\n",
    "\n",
    "cipher_text = encrypt(message, public_key)\n",
    "print(f\"Cipher text: {cipher_text}\")\n",
    "\n",
    "decrypted_message = decrypt(cipher_text, private_key, p)\n",
    "print(f\"Decrypted message: {decrypted_message}\")"
   ]
  },
  {
   "cell_type": "markdown",
   "metadata": {},
   "source": [
    "As expected, original and decrypted messages match."
   ]
  },
  {
   "cell_type": "markdown",
   "metadata": {},
   "source": [
    "### Problem 3 (4 points)"
   ]
  },
  {
   "cell_type": "markdown",
   "metadata": {},
   "source": [
    "Elliptic curves due to their efficient hardware realization widely used in modern secure communication channels. The main thing that lies inside their cryptographic hardness is that we can break them only by greed search over all group points. In this task, we will ask you to write Python function that returns all group elements of a certain elliptic curve over a finite field "
   ]
  },
  {
   "cell_type": "markdown",
   "metadata": {},
   "source": [
    "1) Write a python function that list all points of elliptic curve $y^2=x^3+7$ over $F_{127}$ (1 point)"
   ]
  },
  {
   "cell_type": "markdown",
   "metadata": {},
   "source": [
    "*Note. $127 = 2^7-1$ is the fourth Mersenne prime.*"
   ]
  },
  {
   "cell_type": "code",
   "execution_count": null,
   "metadata": {},
   "outputs": [],
   "source": [
    "# We can simply brute-force the solutions since it's possible number (2**7-1)**2 ~ 2**14 is really small.\n",
    "def get_ec_points(a: int, b: int, p: int) -> list[tuple[int, int]]:\n",
    "    \"\"\"Yields all points on the elliptic curve y^2 = x^3 + ax + b modulo `p`.\"\"\"\n",
    "    points = []\n",
    "    for x in range(p):\n",
    "        y_sq = (x**3 + a*x + b) % p\n",
    "        for y in range(p):\n",
    "            if (y*y) % p == y_sq:\n",
    "                points.append((x, y))\n",
    "\n",
    "    return points"
   ]
  },
  {
   "cell_type": "code",
   "execution_count": 11,
   "metadata": {},
   "outputs": [
    {
     "name": "stdout",
     "output_type": "stream",
     "text": [
      "[(1, 32), (1, 95), (2, 53), (2, 74), (3, 62), (3, 65), (4, 43), (4, 84), (8, 30), (8, 97), (11, 24), (11, 103), (12, 46), (12, 81), (14, 46), (14, 81), (17, 27), (17, 100), (18, 39), (18, 88), (19, 32), (19, 95), (21, 39), (21, 88), (24, 49), (24, 78), (25, 30), (25, 97), (28, 49), (28, 78), (32, 3), (32, 124), (34, 24), (34, 103), (38, 53), (38, 74), (39, 12), (39, 115), (41, 27), (41, 100), (45, 33), (45, 94), (46, 51), (46, 76), (47, 43), (47, 84), (51, 18), (51, 109), (52, 36), (52, 91), (57, 62), (57, 65), (58, 38), (58, 89), (60, 19), (60, 108), (67, 62), (67, 65), (69, 27), (69, 100), (70, 19), (70, 108), (71, 63), (71, 64), (72, 16), (72, 111), (75, 49), (75, 78), (76, 43), (76, 84), (78, 50), (78, 77), (79, 63), (79, 64), (80, 18), (80, 109), (82, 24), (82, 103), (84, 16), (84, 111), (85, 50), (85, 77), (86, 38), (86, 89), (87, 53), (87, 74), (88, 39), (88, 88), (91, 50), (91, 77), (93, 33), (93, 94), (94, 30), (94, 97), (96, 51), (96, 76), (98, 16), (98, 111), (99, 36), (99, 91), (100, 3), (100, 124), (101, 46), (101, 81), (103, 36), (103, 91), (104, 63), (104, 64), (106, 12), (106, 115), (107, 32), (107, 95), (109, 12), (109, 115), (110, 38), (110, 89), (112, 51), (112, 76), (116, 33), (116, 94), (122, 3), (122, 124), (123, 18), (123, 109), (124, 19), (124, 108)]\n"
     ]
    }
   ],
   "source": [
    "# Elliptic curves are of form: y^2 = x^3 + ax + b\n",
    "# In our case, we have: a = 0 and b = 7 over the field of integers modulo 127.\n",
    "ec_solutions = get_ec_points(0, 7, 127)\n",
    "print(ec_solutions)"
   ]
  },
  {
   "cell_type": "markdown",
   "metadata": {
    "collapsed": true
   },
   "source": [
    "2) Compare the number of points with Hasse’s estimate $|N-(q+1)|\\leq 2{\\sqrt  {q}}$. (1 point)"
   ]
  },
  {
   "cell_type": "code",
   "execution_count": 14,
   "metadata": {},
   "outputs": [
    {
     "name": "stdout",
     "output_type": "stream",
     "text": [
      "Hasse's estimate: 105.461 <= 126 <= 150.539\n"
     ]
    }
   ],
   "source": [
    "# Hasse's theormes bounds the number of solutions N using the the field's order q.\n",
    "# From the inequality both bounds for N immediately follow:\n",
    "# N - (q + 1) >= -2*sqrt(q) and N - (q + 1) <= 2*sqrt(q) <=> N >= q + 1 - 2*sqrt(q) and N <= q + 1 + 2*sqrt(q).\n",
    "# Thus N must lie in range [q + 1 - 2*sqrt(q), q + 1 + 2*sqrt(q)].\n",
    "q = 127\n",
    "solutions_n_lower_bound = q + 1 - 2*q**0.5\n",
    "solutions_n_upper_bound = q + 1 + 2*q**0.5\n",
    "print(f\"Hasse's estimate: {solutions_n_lower_bound:.3f} <= {len(ec_solutions)} <= {solutions_n_upper_bound:.3f}\")"
   ]
  },
  {
   "cell_type": "markdown",
   "metadata": {},
   "source": [
    "Computed number of solution bounds estimate seems right."
   ]
  },
  {
   "cell_type": "markdown",
   "metadata": {},
   "source": [
    "3) Prove that the point\n",
    "$A = (19, 32)$ belongs to the elliptic curve and construct a sequence of $B_n = nA, n = 1, ..., 100$. (2 points)"
   ]
  },
  {
   "cell_type": "code",
   "execution_count": null,
   "metadata": {},
   "outputs": [
    {
     "name": "stdout",
     "output_type": "stream",
     "text": [
      "32**2 = 19**3 + 7 (mod 127)? True\n"
     ]
    }
   ],
   "source": [
    "# To prove that the point A = (19, 32) belongs to the elliptic curve, we cans simply substitute its coordinates into the equation.\n",
    "x, y = (19, 32)\n",
    "lhs = pow(y, 2, 127)\n",
    "rhs = (pow(x, 3, 127) + 7) % 127\n",
    "print(f\"{y}**2 = {x}**3 + 7 (mod 127)? {lhs == rhs}\")"
   ]
  },
  {
   "cell_type": "code",
   "execution_count": 17,
   "metadata": {},
   "outputs": [
    {
     "name": "stdout",
     "output_type": "stream",
     "text": [
      "[(19, 32), (11, 24), (123, 18), (38, 53), (122, 3), (71, 63), (85, 77), (19, 32), (11, 24), (123, 18), (38, 53), (122, 3), (71, 63), (85, 77), (19, 32), (11, 24), (123, 18), (38, 53), (122, 3), (71, 63), (85, 77), (19, 32), (11, 24), (123, 18), (38, 53), (122, 3), (71, 63), (85, 77), (19, 32), (11, 24), (123, 18), (38, 53), (122, 3), (71, 63), (85, 77), (19, 32), (11, 24), (123, 18), (38, 53), (122, 3), (71, 63), (85, 77), (19, 32), (11, 24), (123, 18), (38, 53), (122, 3), (71, 63), (85, 77), (19, 32), (11, 24), (123, 18), (38, 53), (122, 3), (71, 63), (85, 77), (19, 32), (11, 24), (123, 18), (38, 53), (122, 3), (71, 63), (85, 77), (19, 32), (11, 24), (123, 18), (38, 53), (122, 3), (71, 63), (85, 77), (19, 32), (11, 24), (123, 18), (38, 53), (122, 3), (71, 63), (85, 77), (19, 32), (11, 24), (123, 18), (38, 53), (122, 3), (71, 63), (85, 77), (19, 32), (11, 24), (123, 18), (38, 53), (122, 3), (71, 63), (85, 77), (19, 32), (11, 24), (123, 18), (38, 53), (122, 3), (71, 63), (85, 77), (19, 32), (11, 24)]\n"
     ]
    }
   ],
   "source": [
    "# Using strightforward repeated addition.\n",
    "bn = [(19, 32)]\n",
    "for _ in range(1, 100):\n",
    "    x, y = bn[-1]\n",
    "    # Tangent to the elliptic curve at the current point:\n",
    "    # 3*x**2 + a / 2*y\n",
    "    slope = (3*x**2) * pow(2*y, -1, 127)\n",
    "\n",
    "    # The rest is similar to regular point addition.\n",
    "    x_new = (slope**2 - 2*x) % 127\n",
    "    y_new = (slope*(x - x_new) - y) % 127\n",
    "\n",
    "    bn.append((x_new, y_new))\n",
    "\n",
    "print(bn)"
   ]
  },
  {
   "cell_type": "markdown",
   "metadata": {},
   "source": [
    "### Problem 4 (2 points)"
   ]
  },
  {
   "cell_type": "markdown",
   "metadata": {},
   "source": [
    "Let $p = 601$, $q = 7$, $e = 1463$ be the setup of the RSA algorithm. Compute $d$, sign the plane message $m = 58$ and check the signature."
   ]
  },
  {
   "cell_type": "code",
   "execution_count": null,
   "metadata": {},
   "outputs": [],
   "source": []
  },
  {
   "cell_type": "markdown",
   "metadata": {},
   "source": [
    "### Problem 5 (4* points)\n",
    "\n",
    "*Bonus Problem*\n",
    "\n",
    "The dealer shared the secret among four participants using a (n, 4)-threshold Shamir secret sharing scheme over ( F_{19} ) with the following shares: ( (3, 17), (17, 5), (5, 11), (11, 4) )."
   ]
  },
  {
   "cell_type": "markdown",
   "metadata": {},
   "source": [
    "1) (2 points) Find the secret (the value at ( x=0 )) and the initial polynomial. Is it consistent with the (4, 3) threshold?\n",
    "\n",
    "***Hint.*** *Refer to whiteboard 8.3 for an example.*"
   ]
  },
  {
   "cell_type": "code",
   "execution_count": null,
   "metadata": {},
   "outputs": [],
   "source": []
  },
  {
   "cell_type": "markdown",
   "metadata": {},
   "source": [
    "2) (2 points) Provide a probabilistic secret generation procedure for the aforementioned example and theoretically prove that it ensures perfect secrecy."
   ]
  },
  {
   "cell_type": "code",
   "execution_count": null,
   "metadata": {},
   "outputs": [],
   "source": []
  }
 ],
 "metadata": {
  "kernelspec": {
   "display_name": ".venv",
   "language": "python",
   "name": "python3"
  },
  "language_info": {
   "codemirror_mode": {
    "name": "ipython",
    "version": 3
   },
   "file_extension": ".py",
   "mimetype": "text/x-python",
   "name": "python",
   "nbconvert_exporter": "python",
   "pygments_lexer": "ipython3",
   "version": "3.12.3"
  }
 },
 "nbformat": 4,
 "nbformat_minor": 2
}
